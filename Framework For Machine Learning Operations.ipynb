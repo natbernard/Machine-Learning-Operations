{
 "cells": [
  {
   "cell_type": "markdown",
   "metadata": {},
   "source": [
    "# Machine Learning Operations"
   ]
  },
  {
   "cell_type": "markdown",
   "metadata": {},
   "source": [
    "### Framework for Building Machine Learning Models"
   ]
  },
  {
   "cell_type": "markdown",
   "metadata": {},
   "source": [
    "- The generic MLOps workflow brings together Data Engineering, DevOps and Machine Learning\n",
    "- It is generally composed of the MLOps pipeline and drivers."
   ]
  },
  {
   "cell_type": "markdown",
   "metadata": {},
   "source": [
    "#### *MLOps Pipeline*"
   ]
  },
  {
   "cell_type": "markdown",
   "metadata": {},
   "source": [
    "- The MLOps pipeline performs operations including building, deploying and monitoring models.\n",
    "- All models trained, deployed, and\n",
    "monitored using the MLOps method are end-to-end traceable and their lineage is logged in\n",
    "order to trace the origins of the model, which includes the source code the model used to\n",
    "train, the data used to train and test the model, and parameters used to converge the model."
   ]
  },
  {
   "cell_type": "markdown",
   "metadata": {},
   "source": [
    "#### *Drivers*"
   ]
  },
  {
   "cell_type": "markdown",
   "metadata": {},
   "source": [
    "- The key drivers for the MLOps pipeline include data, code, artifacts, middleware and infrastructure."
   ]
  },
  {
   "cell_type": "markdown",
   "metadata": {},
   "source": [
    "**Data**\n",
    "- To manage data in ML applications, data is handled in these steps: data acquisition, data annotation, data cataloging, data preparation, data quality checking, data sampling, and data augmentation."
   ]
  },
  {
   "cell_type": "markdown",
   "metadata": {},
   "source": [
    "**Code**\n",
    "- There are three essential modules of code that drive the MLOps pipeline:\n",
    "training code, testing code, and application code. \n",
    "- These scripts or code are executed using the CI/CD and data pipelines to ensure the robust working of the MLOps pipeline."
   ]
  },
  {
   "cell_type": "markdown",
   "metadata": {},
   "source": [
    "**Artifacts**\n",
    "- The MLOps pipeline generates artifacts such as data, serialized models,\n",
    "code snippets, system logs, ML model training, and testing metrics information. \n",
    "- All these artifacts are useful for the successful working of the MLOps pipeline, ensuring its traceability and sustainability. \n",
    "- These artifacts are managed using middleware services such as the model registry, workspaces, logging services, source code management services, databases, and so on."
   ]
  },
  {
   "cell_type": "markdown",
   "metadata": {},
   "source": [
    "**Middleware**\n",
    "- Middleware refers to computer software that provides services to software applications that are more than those available from the OS.\n",
    "- Middleware services ensure multiple applications to automate and orchestrate\n",
    "processes for the MLOps pipeline."
   ]
  },
  {
   "cell_type": "markdown",
   "metadata": {},
   "source": [
    "**Infrastructure**\n",
    "- Infrastructure essentially reers to storage and computing resources to ensure the successful working of the MLOps pipeline.\n",
    "- When it comes to the infrastructure, there are various options such as on-premises resources or infrastructure as a service (IaaS), which is cloud\n",
    "services."
   ]
  },
  {
   "cell_type": "markdown",
   "metadata": {},
   "source": [
    "- A fully automated MLOps workflow can be achieved through the ptimization and synergy of the drivers with the MLOps pipeline.\n",
    "- An advantage of having an automated MLOps workflow is the increase in the efficiency of the IT team by reducing the time spent working on repeatable tasks."
   ]
  }
 ],
 "metadata": {
  "kernelspec": {
   "display_name": "Python 3.7.6 ('base')",
   "language": "python",
   "name": "python3"
  },
  "language_info": {
   "codemirror_mode": {
    "name": "ipython",
    "version": 3
   },
   "file_extension": ".py",
   "mimetype": "text/x-python",
   "name": "python",
   "nbconvert_exporter": "python",
   "pygments_lexer": "ipython3",
   "version": "3.7.6"
  },
  "orig_nbformat": 4,
  "vscode": {
   "interpreter": {
    "hash": "bcd2c53e9736f599d911168c349fa93ea4da0fc59fb270cea2da0241c3d0904b"
   }
  }
 },
 "nbformat": 4,
 "nbformat_minor": 2
}
